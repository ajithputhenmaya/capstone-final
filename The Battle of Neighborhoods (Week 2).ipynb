{
    "cells": [
        {
            "metadata": {},
            "cell_type": "markdown",
            "source": "# Capstone Project - The Battle of Neighborhoods (Week 2)"
        },
        {
            "metadata": {},
            "cell_type": "markdown",
            "source": "Introduction"
        },
        {
            "metadata": {},
            "cell_type": "markdown",
            "source": "The aim of this project is to find a safe and secure location for opening of commercial establishments in Vancouver, Canada. Specifically, this report will be targeted to stakeholders interested in opening any business place like **Grocery Store** in **Vancouver City**, Canada.\n\nThe first task would be to **choose the safest borough** by analysing crime data for opening a grocery store and **short listing a neighbourhood**, where grocery stores are not amongst the most commom venues, and yet **as close to the city as possible**.\n\nWe will make use of our data science tools to analyse data and focus on the safest borough and explore its neighborhoods and the 10 most common venues in each neighborhood so that the best neighborhood where grocery store is not amongst the most common venue can be selected."
        },
        {
            "metadata": {},
            "cell_type": "markdown",
            "source": "Data"
        },
        {
            "metadata": {},
            "cell_type": "markdown",
            "source": "Based on definition of our problem, factors that will influence our decission are:\n\nfinding the safest borough based on crime statistics\nfinding the most common venues\nchoosing the right neighbourhood within the borough\nWe will be using the geographical coordinates of Vancouver to plot neighbourhoods in a borough that is safe and in the city's vicinity, and finally cluster our neighborhoods and present our findings."
        },
        {
            "metadata": {},
            "cell_type": "markdown",
            "source": "Using a real world data set from Kaggle containing the Vancouver Crimes from 2003 to 2019"
        },
        {
            "metadata": {},
            "cell_type": "markdown",
            "source": "Properties of the Crime Report\n\nTYPE - Crime type\nYEAR - Recorded year\nMONTH - Recorded month\nDAY - Recorded day\nHOUR - Recorded hour\nMINUTE - Recorded minute\nHUNDRED_BLOCK - Recorded block\nNEIGHBOURHOOD - Recorded neighborhood\nX - GPS longtitude\nY - GPS latitude"
        },
        {
            "metadata": {},
            "cell_type": "markdown",
            "source": "# Importing all the necessary Libraries"
        },
        {
            "metadata": {},
            "cell_type": "code",
            "source": "import numpy as np\nimport pandas as pd\n\n#Command to install OpenCage Geocoder for fetching Lat and Lng of Neighborhood\n!pip install opencage\n\n#Importing OpenCage Geocoder\nfrom opencage.geocoder import OpenCageGeocode\n\n# use the inline backend to generate the plots within the browser\n%matplotlib inline \n\n#Importing Matplot lib and associated packages to perform Data Visualisation and Exploratory Data Analysis\nimport matplotlib as mpl\nimport matplotlib.pyplot as plt\n\nmpl.style.use('ggplot') # optional: for ggplot-like style\n\n# check for latest version of Matplotlib\nprint ('Matplotlib version: ', mpl.__version__) # >= 2.0.0\n\n# Matplotlib and associated plotting modules\nimport matplotlib.cm as cm\nimport matplotlib.colors as colors\n\n#Importing folium to visualise Maps and plot based on Lat and Lng\nimport folium\n\n#Requests to request web pages by making get requests to FourSquare REST Client\nimport requests\n\n#To normalise data returned by FourSquare API\nfrom pandas.io.json import json_normalize\n\n#Importing KMeans from SciKit library to Classify neighborhoods into clusters\nfrom sklearn.cluster import KMeans\n\nprint('Libraries imported')",
            "execution_count": 3,
            "outputs": [
                {
                    "output_type": "stream",
                    "text": "Requirement already satisfied: opencage in /opt/conda/envs/Python36/lib/python3.6/site-packages (1.2.1)\nRequirement already satisfied: Requests>=2.2.0 in /opt/conda/envs/Python36/lib/python3.6/site-packages (from opencage) (2.21.0)\nRequirement already satisfied: backoff>=1.10.0 in /opt/conda/envs/Python36/lib/python3.6/site-packages (from opencage) (1.10.0)\nRequirement already satisfied: pyopenssl>=0.15.1 in /opt/conda/envs/Python36/lib/python3.6/site-packages (from opencage) (19.0.0)\nRequirement already satisfied: six>=1.4.0 in /opt/conda/envs/Python36/lib/python3.6/site-packages (from opencage) (1.12.0)\nRequirement already satisfied: chardet<3.1.0,>=3.0.2 in /opt/conda/envs/Python36/lib/python3.6/site-packages (from Requests>=2.2.0->opencage) (3.0.4)\nRequirement already satisfied: certifi>=2017.4.17 in /opt/conda/envs/Python36/lib/python3.6/site-packages (from Requests>=2.2.0->opencage) (2020.6.20)\nRequirement already satisfied: idna<2.9,>=2.5 in /opt/conda/envs/Python36/lib/python3.6/site-packages (from Requests>=2.2.0->opencage) (2.8)\nRequirement already satisfied: urllib3<1.25,>=1.21.1 in /opt/conda/envs/Python36/lib/python3.6/site-packages (from Requests>=2.2.0->opencage) (1.24.1)\nRequirement already satisfied: cryptography>=2.3 in /opt/conda/envs/Python36/lib/python3.6/site-packages (from pyopenssl>=0.15.1->opencage) (2.5)\nRequirement already satisfied: cffi!=1.11.3,>=1.8 in /opt/conda/envs/Python36/lib/python3.6/site-packages (from cryptography>=2.3->pyopenssl>=0.15.1->opencage) (1.11.5)\nRequirement already satisfied: asn1crypto>=0.21.0 in /opt/conda/envs/Python36/lib/python3.6/site-packages (from cryptography>=2.3->pyopenssl>=0.15.1->opencage) (0.24.0)\nRequirement already satisfied: pycparser in /opt/conda/envs/Python36/lib/python3.6/site-packages (from cffi!=1.11.3,>=1.8->cryptography>=2.3->pyopenssl>=0.15.1->opencage) (2.19)\nMatplotlib version:  3.0.2\n",
                    "name": "stdout"
                },
                {
                    "output_type": "error",
                    "ename": "ModuleNotFoundError",
                    "evalue": "No module named 'folium'",
                    "traceback": [
                        "\u001b[0;31m---------------------------------------------------------------------------\u001b[0m",
                        "\u001b[0;31mModuleNotFoundError\u001b[0m                       Traceback (most recent call last)",
                        "\u001b[0;32m<ipython-input-3-b4a3f9dbbe74>\u001b[0m in \u001b[0;36m<module>\u001b[0;34m\u001b[0m\n\u001b[1;32m     25\u001b[0m \u001b[0;34m\u001b[0m\u001b[0m\n\u001b[1;32m     26\u001b[0m \u001b[0;31m#Importing folium to visualise Maps and plot based on Lat and Lng\u001b[0m\u001b[0;34m\u001b[0m\u001b[0;34m\u001b[0m\u001b[0;34m\u001b[0m\u001b[0m\n\u001b[0;32m---> 27\u001b[0;31m \u001b[0;32mimport\u001b[0m \u001b[0mfolium\u001b[0m\u001b[0;34m\u001b[0m\u001b[0;34m\u001b[0m\u001b[0m\n\u001b[0m\u001b[1;32m     28\u001b[0m \u001b[0;34m\u001b[0m\u001b[0m\n\u001b[1;32m     29\u001b[0m \u001b[0;31m#Requests to request web pages by making get requests to FourSquare REST Client\u001b[0m\u001b[0;34m\u001b[0m\u001b[0;34m\u001b[0m\u001b[0;34m\u001b[0m\u001b[0m\n",
                        "\u001b[0;31mModuleNotFoundError\u001b[0m: No module named 'folium'"
                    ]
                }
            ]
        },
        {
            "metadata": {},
            "cell_type": "markdown",
            "source": "# Reading from the Dataset"
        },
        {
            "metadata": {},
            "cell_type": "code",
            "source": "vnc_crime_df = pd.read_csv('https://raw.githubusercontent.com/RamanujaSVL/Coursera_Capstone/master/vancouver_crime_records_2018.csv', index_col=None)\n\n#Dropping X,Y which represents Lat, Lng data as Coordinates, the data seems to be corrupt\nvnc_crime_df.drop(['Unnamed: 0','MINUTE', 'HUNDRED_BLOCK', 'X', 'Y'], axis = 1, inplace = True)\n\n#vnc_crime_df.columns\n\nvnc_crime_df.head()",
            "execution_count": 4,
            "outputs": [
                {
                    "output_type": "execute_result",
                    "execution_count": 4,
                    "data": {
                        "text/plain": "                         TYPE  YEAR  MONTH  DAY  HOUR  \\\n0  Break and Enter Commercial  2018      3    2     6   \n1  Break and Enter Commercial  2018      6   16    18   \n2  Break and Enter Commercial  2018     12   12     0   \n3  Break and Enter Commercial  2018      4    9     6   \n4  Break and Enter Commercial  2018     10    2    18   \n\n               NEIGHBOURHOOD  \n0                   West End  \n1                   West End  \n2                   West End  \n3  Central Business District  \n4  Central Business District  ",
                        "text/html": "<div>\n<style scoped>\n    .dataframe tbody tr th:only-of-type {\n        vertical-align: middle;\n    }\n\n    .dataframe tbody tr th {\n        vertical-align: top;\n    }\n\n    .dataframe thead th {\n        text-align: right;\n    }\n</style>\n<table border=\"1\" class=\"dataframe\">\n  <thead>\n    <tr style=\"text-align: right;\">\n      <th></th>\n      <th>TYPE</th>\n      <th>YEAR</th>\n      <th>MONTH</th>\n      <th>DAY</th>\n      <th>HOUR</th>\n      <th>NEIGHBOURHOOD</th>\n    </tr>\n  </thead>\n  <tbody>\n    <tr>\n      <th>0</th>\n      <td>Break and Enter Commercial</td>\n      <td>2018</td>\n      <td>3</td>\n      <td>2</td>\n      <td>6</td>\n      <td>West End</td>\n    </tr>\n    <tr>\n      <th>1</th>\n      <td>Break and Enter Commercial</td>\n      <td>2018</td>\n      <td>6</td>\n      <td>16</td>\n      <td>18</td>\n      <td>West End</td>\n    </tr>\n    <tr>\n      <th>2</th>\n      <td>Break and Enter Commercial</td>\n      <td>2018</td>\n      <td>12</td>\n      <td>12</td>\n      <td>0</td>\n      <td>West End</td>\n    </tr>\n    <tr>\n      <th>3</th>\n      <td>Break and Enter Commercial</td>\n      <td>2018</td>\n      <td>4</td>\n      <td>9</td>\n      <td>6</td>\n      <td>Central Business District</td>\n    </tr>\n    <tr>\n      <th>4</th>\n      <td>Break and Enter Commercial</td>\n      <td>2018</td>\n      <td>10</td>\n      <td>2</td>\n      <td>18</td>\n      <td>Central Business District</td>\n    </tr>\n  </tbody>\n</table>\n</div>"
                    },
                    "metadata": {}
                }
            ]
        },
        {
            "metadata": {},
            "cell_type": "code",
            "source": "vnc_crime_df.columns = ['Type', 'Year','Month','Day','Hour','Neighbourhood']\nvnc_crime_df.head()",
            "execution_count": 5,
            "outputs": [
                {
                    "output_type": "execute_result",
                    "execution_count": 5,
                    "data": {
                        "text/plain": "                         Type  Year  Month  Day  Hour  \\\n0  Break and Enter Commercial  2018      3    2     6   \n1  Break and Enter Commercial  2018      6   16    18   \n2  Break and Enter Commercial  2018     12   12     0   \n3  Break and Enter Commercial  2018      4    9     6   \n4  Break and Enter Commercial  2018     10    2    18   \n\n               Neighbourhood  \n0                   West End  \n1                   West End  \n2                   West End  \n3  Central Business District  \n4  Central Business District  ",
                        "text/html": "<div>\n<style scoped>\n    .dataframe tbody tr th:only-of-type {\n        vertical-align: middle;\n    }\n\n    .dataframe tbody tr th {\n        vertical-align: top;\n    }\n\n    .dataframe thead th {\n        text-align: right;\n    }\n</style>\n<table border=\"1\" class=\"dataframe\">\n  <thead>\n    <tr style=\"text-align: right;\">\n      <th></th>\n      <th>Type</th>\n      <th>Year</th>\n      <th>Month</th>\n      <th>Day</th>\n      <th>Hour</th>\n      <th>Neighbourhood</th>\n    </tr>\n  </thead>\n  <tbody>\n    <tr>\n      <th>0</th>\n      <td>Break and Enter Commercial</td>\n      <td>2018</td>\n      <td>3</td>\n      <td>2</td>\n      <td>6</td>\n      <td>West End</td>\n    </tr>\n    <tr>\n      <th>1</th>\n      <td>Break and Enter Commercial</td>\n      <td>2018</td>\n      <td>6</td>\n      <td>16</td>\n      <td>18</td>\n      <td>West End</td>\n    </tr>\n    <tr>\n      <th>2</th>\n      <td>Break and Enter Commercial</td>\n      <td>2018</td>\n      <td>12</td>\n      <td>12</td>\n      <td>0</td>\n      <td>West End</td>\n    </tr>\n    <tr>\n      <th>3</th>\n      <td>Break and Enter Commercial</td>\n      <td>2018</td>\n      <td>4</td>\n      <td>9</td>\n      <td>6</td>\n      <td>Central Business District</td>\n    </tr>\n    <tr>\n      <th>4</th>\n      <td>Break and Enter Commercial</td>\n      <td>2018</td>\n      <td>10</td>\n      <td>2</td>\n      <td>18</td>\n      <td>Central Business District</td>\n    </tr>\n  </tbody>\n</table>\n</div>"
                    },
                    "metadata": {}
                }
            ]
        },
        {
            "metadata": {},
            "cell_type": "code",
            "source": "vnc_crime_df['Neighbourhood'].value_counts()",
            "execution_count": 6,
            "outputs": [
                {
                    "output_type": "execute_result",
                    "execution_count": 6,
                    "data": {
                        "text/plain": "Central Business District    10857\nWest End                      3031\nMount Pleasant                2396\nStrathcona                    1987\nKitsilano                     1802\nFairview                      1795\nRenfrew-Collingwood           1762\nGrandview-Woodland            1761\nKensington-Cedar Cottage      1391\nHastings-Sunrise              1270\nSunset                         967\nRiley Park                     866\nMarpole                        828\nVictoria-Fraserview            600\nKillarney                      565\nOakridge                       499\nDunbar-Southlands              474\nKerrisdale                     417\nShaughnessy                    414\nWest Point Grey                372\nArbutus Ridge                  311\nSouth Cambie                   292\nStanley Park                   154\nMusqueam                        17\nName: Neighbourhood, dtype: int64"
                    },
                    "metadata": {}
                }
            ]
        },
        {
            "metadata": {},
            "cell_type": "markdown",
            "source": "Gathering additional information about the Neighborhood from Wikipedia"
        },
        {
            "metadata": {},
            "cell_type": "code",
            "source": "vnc_neigh_bor = pd.DataFrame(columns=column_names)\n\nvnc_neigh_bor['Neighbourhood'] = vnc_crime_df['Neighbourhood'].unique()\n\nneigh_bor_dict = {'Central Business District':'Central', 'West End':'Central', 'Stanley Park':'Central', 'Victoria-Fraserview':'South Vancouver',\n                  'Killarney':'South Vancouver', 'Musqueam':'South Vancouver', 'Mount Pleasant':'East Side', 'Strathcona':'East Side',\n                  'Renfrew-Collingwood':'East Side', 'Grandview-Woodland':'East Side', 'Kensington-Cedar Cottage':'East Side', 'Hastings-Sunrise':'East Side',\n                  'Sunset':'East Side', 'Riley Park':'East Side', 'Kitsilano':'West Side', 'Fairview':'West Side',\n                  'Marpole':'West Side', 'Oakridge':'West Side', 'Dunbar-Southlands':'West Side', 'Kerrisdale':'West Side',\n                  'Shaughnessy':'West Side', 'West Point Grey':'West Side', 'Arbutus Ridge':'West Side', 'South Cambie':'West Side'}\n\nfor row, neigh in zip(neigh_bor_dict, vnc_neigh_bor['Neighbourhood']):\n  vnc_neigh_bor.loc[vnc_neigh_bor.Neighbourhood == row, 'Borough'] = neigh_bor_dict.get(row)\n\nvnc_neigh_bor.dropna(inplace=True)\n\nprint(\"Total Neighbourhood Count\",len(vnc_neigh_bor['Neighbourhood']),\"Borough Count\",len(vnc_neigh_bor['Borough'].unique()))\n\nvnc_neigh_bor.head()",
            "execution_count": 7,
            "outputs": [
                {
                    "output_type": "error",
                    "ename": "NameError",
                    "evalue": "name 'column_names' is not defined",
                    "traceback": [
                        "\u001b[0;31m---------------------------------------------------------------------------\u001b[0m",
                        "\u001b[0;31mNameError\u001b[0m                                 Traceback (most recent call last)",
                        "\u001b[0;32m<ipython-input-7-81260b3977fd>\u001b[0m in \u001b[0;36m<module>\u001b[0;34m\u001b[0m\n\u001b[0;32m----> 1\u001b[0;31m \u001b[0mvnc_neigh_bor\u001b[0m \u001b[0;34m=\u001b[0m \u001b[0mpd\u001b[0m\u001b[0;34m.\u001b[0m\u001b[0mDataFrame\u001b[0m\u001b[0;34m(\u001b[0m\u001b[0mcolumns\u001b[0m\u001b[0;34m=\u001b[0m\u001b[0mcolumn_names\u001b[0m\u001b[0;34m)\u001b[0m\u001b[0;34m\u001b[0m\u001b[0;34m\u001b[0m\u001b[0m\n\u001b[0m\u001b[1;32m      2\u001b[0m \u001b[0;34m\u001b[0m\u001b[0m\n\u001b[1;32m      3\u001b[0m \u001b[0mvnc_neigh_bor\u001b[0m\u001b[0;34m[\u001b[0m\u001b[0;34m'Neighbourhood'\u001b[0m\u001b[0;34m]\u001b[0m \u001b[0;34m=\u001b[0m \u001b[0mvnc_crime_df\u001b[0m\u001b[0;34m[\u001b[0m\u001b[0;34m'Neighbourhood'\u001b[0m\u001b[0;34m]\u001b[0m\u001b[0;34m.\u001b[0m\u001b[0munique\u001b[0m\u001b[0;34m(\u001b[0m\u001b[0;34m)\u001b[0m\u001b[0;34m\u001b[0m\u001b[0;34m\u001b[0m\u001b[0m\n\u001b[1;32m      4\u001b[0m \u001b[0;34m\u001b[0m\u001b[0m\n\u001b[1;32m      5\u001b[0m neigh_bor_dict = {'Central Business District':'Central', 'West End':'Central', 'Stanley Park':'Central', 'Victoria-Fraserview':'South Vancouver',\n",
                        "\u001b[0;31mNameError\u001b[0m: name 'column_names' is not defined"
                    ]
                }
            ]
        },
        {
            "metadata": {},
            "cell_type": "markdown",
            "source": "Results and Discussion\nThe objective of the business problem was to help stakeholders identify one of the safest borough in Vancouver, and an appropriate neighborhood within the borough to set up a commercial establishment especially a Grocery store. This has been achieved by first making use of Vancouver crime data to identify a safe borugh with considerable number of neighborhood for any business to be viable. After selecting the borough it was imperative to choose the right neighborhood where grocery shops were not among venues in a close proximity to each other. We achieved this by grouping the neighborhoods into clusters to assist the stakeholders by providing them with relavent data about venues and safety of a given neighborhood."
        },
        {
            "metadata": {},
            "cell_type": "code",
            "source": "",
            "execution_count": null,
            "outputs": []
        }
    ],
    "metadata": {
        "kernelspec": {
            "name": "python3",
            "display_name": "Python 3.6",
            "language": "python"
        },
        "language_info": {
            "name": "python",
            "version": "3.6.9",
            "mimetype": "text/x-python",
            "codemirror_mode": {
                "name": "ipython",
                "version": 3
            },
            "pygments_lexer": "ipython3",
            "nbconvert_exporter": "python",
            "file_extension": ".py"
        }
    },
    "nbformat": 4,
    "nbformat_minor": 1
}